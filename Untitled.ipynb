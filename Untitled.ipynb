{
 "cells": [
  {
   "cell_type": "code",
   "execution_count": 2,
   "id": "c2bc919f-0e66-4557-8a5e-b31eff7e0537",
   "metadata": {},
   "outputs": [
    {
     "name": "stdout",
     "output_type": "stream",
     "text": [
      "Requirement already satisfied: pytesseract in /opt/anaconda3/lib/python3.11/site-packages (0.3.13)\n",
      "Requirement already satisfied: pillow in /opt/anaconda3/lib/python3.11/site-packages (10.2.0)\n",
      "Requirement already satisfied: openpyxl in /opt/anaconda3/lib/python3.11/site-packages (3.0.10)\n",
      "Requirement already satisfied: packaging>=21.3 in /opt/anaconda3/lib/python3.11/site-packages (from pytesseract) (23.1)\n",
      "Requirement already satisfied: et_xmlfile in /opt/anaconda3/lib/python3.11/site-packages (from openpyxl) (1.1.0)\n",
      "Note: you may need to restart the kernel to use updated packages.\n"
     ]
    }
   ],
   "source": [
    "pip install pytesseract pillow openpyxl"
   ]
  },
  {
   "cell_type": "code",
   "execution_count": null,
   "id": "e12a62f5-c84a-43b1-beee-d7f3193e4243",
   "metadata": {},
   "outputs": [],
   "source": [
    "import os\n",
    "from PIL import Image\n",
    "import pytesseract\n",
    "import pandas as pd\n",
    "\n",
    "# Path to the main directory containing company folders\n",
    "main_dir = \"/path/to/main/folder\"\n",
    "\n",
    "# Initialize a dictionary to store company lists\n",
    "company_data = {}\n",
    "\n",
    "# Iterate over each folder in the main directory\n",
    "for folder_name in os.listdir(main_dir):\n",
    "    folder_path = os.path.join(main_dir, folder_name)\n",
    "    if os.path.isdir(folder_path):  # Ensure it's a directory\n",
    "        companies = []\n",
    "        # Iterate over each image in the folder\n",
    "        for file_name in os.listdir(folder_path):\n",
    "            file_path = os.path.join(folder_path, file_name)\n",
    "            if file_name.lower().endswith(('.png', '.jpg', '.jpeg')):  # Check for image files\n",
    "                try:\n",
    "                    # Open the image and extract text using OCR\n",
    "                    image = Image.open(file_path)\n",
    "                    text = pytesseract.image_to_string(image, config='--oem 3 --psm 6')\n",
    "                    # Split the text into lines and clean it up\n",
    "                    lines = [line.strip() for line in text.split('\\n') if line.strip()]\n",
    "                    companies.extend(lines)\n",
    "                except Exception as e:\n",
    "                    print(f\"Error processing {file_path}: {e}\")\n",
    "        # Store the extracted company names for the folder (column)\n",
    "        company_data[folder_name] = companies\n",
    "\n",
    "# Convert the data to a DataFrame\n",
    "df = pd.DataFrame(dict([(k, pd.Series(v)) for k, v in company_data.items()]))\n",
    "\n",
    "# Save to Excel\n",
    "output_file = \"company_hierarchy.xlsx\"\n",
    "df.to_excel(output_file, index=False)\n",
    "print(f\"Excel file saved as {output_file}\")"
   ]
  },
  {
   "cell_type": "code",
   "execution_count": 4,
   "id": "78eb26e6-06ec-42c7-9848-3427d76352f7",
   "metadata": {},
   "outputs": [
    {
     "ename": "FileNotFoundError",
     "evalue": "[Errno 2] No such file or directory: 'Desktop/root'",
     "output_type": "error",
     "traceback": [
      "\u001b[0;31m---------------------------------------------------------------------------\u001b[0m",
      "\u001b[0;31mFileNotFoundError\u001b[0m                         Traceback (most recent call last)",
      "Cell \u001b[0;32mIn[4], line 61\u001b[0m\n\u001b[1;32m     58\u001b[0m output_excel_file \u001b[38;5;241m=\u001b[39m \u001b[38;5;124m\"\u001b[39m\u001b[38;5;124moutput_companies.xlsx\u001b[39m\u001b[38;5;124m\"\u001b[39m\n\u001b[1;32m     60\u001b[0m \u001b[38;5;66;03m# Process the folders and create the Excel file\u001b[39;00m\n\u001b[0;32m---> 61\u001b[0m process_folders_to_excel(root_directory, output_excel_file)\n",
      "Cell \u001b[0;32mIn[4], line 32\u001b[0m, in \u001b[0;36mprocess_folders_to_excel\u001b[0;34m(root_dir, output_file)\u001b[0m\n\u001b[1;32m     29\u001b[0m sheet \u001b[38;5;241m=\u001b[39m workbook\u001b[38;5;241m.\u001b[39mactive\n\u001b[1;32m     31\u001b[0m \u001b[38;5;66;03m# Traverse all folders in the root directory\u001b[39;00m\n\u001b[0;32m---> 32\u001b[0m \u001b[38;5;28;01mfor\u001b[39;00m col, folder_name \u001b[38;5;129;01min\u001b[39;00m \u001b[38;5;28menumerate\u001b[39m(os\u001b[38;5;241m.\u001b[39mlistdir(root_dir), start\u001b[38;5;241m=\u001b[39m\u001b[38;5;241m1\u001b[39m):\n\u001b[1;32m     33\u001b[0m     folder_path \u001b[38;5;241m=\u001b[39m os\u001b[38;5;241m.\u001b[39mpath\u001b[38;5;241m.\u001b[39mjoin(root_dir, folder_name)\n\u001b[1;32m     34\u001b[0m     \u001b[38;5;28;01mif\u001b[39;00m os\u001b[38;5;241m.\u001b[39mpath\u001b[38;5;241m.\u001b[39misdir(folder_path):\n\u001b[1;32m     35\u001b[0m         \u001b[38;5;66;03m# Set column header as folder name\u001b[39;00m\n",
      "\u001b[0;31mFileNotFoundError\u001b[0m: [Errno 2] No such file or directory: 'Desktop/root'"
     ]
    }
   ],
   "source": [
    "import os\n",
    "from PIL import Image, ImageEnhance, ImageFilter\n",
    "import pytesseract\n",
    "from openpyxl import Workbook\n",
    "\n",
    "# Function to extract text from an image using OCR\n",
    "def extract_text_from_image(image_path):\n",
    "    try:\n",
    "        # Load image\n",
    "        image = Image.open(image_path)\n",
    "        # Convert to grayscale\n",
    "        image_gray = image.convert(\"L\")\n",
    "        # Enhance contrast\n",
    "        image_enhanced = ImageEnhance.Contrast(image_gray).enhance(2)\n",
    "        # Sharpen image\n",
    "        image_sharpened = image_enhanced.filter(ImageFilter.SHARPEN)\n",
    "        # Extract text\n",
    "        custom_config = r'--oem 3 --psm 6'\n",
    "        text = pytesseract.image_to_string(image_sharpened, config=custom_config)\n",
    "        return text.strip()\n",
    "    except Exception as e:\n",
    "        print(f\"Error processing {image_path}: {e}\")\n",
    "        return \"\"\n",
    "\n",
    "# Function to process folders and extract company names from images\n",
    "def process_folders_to_excel(root_dir, output_file):\n",
    "    # Initialize a workbook\n",
    "    workbook = Workbook()\n",
    "    sheet = workbook.active\n",
    "\n",
    "    # Traverse all folders in the root directory\n",
    "    for col, folder_name in enumerate(os.listdir(root_dir), start=1):\n",
    "        folder_path = os.path.join(root_dir, folder_name)\n",
    "        if os.path.isdir(folder_path):\n",
    "            # Set column header as folder name\n",
    "            sheet.cell(row=1, column=col, value=folder_name)\n",
    "\n",
    "            # Process images in the folder\n",
    "            row = 2  # Start adding company names from the second row\n",
    "            for file_name in os.listdir(folder_path):\n",
    "                file_path = os.path.join(folder_path, file_name)\n",
    "                if file_name.lower().endswith(('.png', '.jpg', '.jpeg', '.bmp', '.tiff')):\n",
    "                    # Extract text from the image\n",
    "                    extracted_text = extract_text_from_image(file_path)\n",
    "                    # Split the text into lines and add each company name to the sheet\n",
    "                    for company in extracted_text.split('\\n'):\n",
    "                        company = company.strip()\n",
    "                        if company:  # Avoid empty lines\n",
    "                            sheet.cell(row=row, column=col, value=company)\n",
    "                            row += 1\n",
    "\n",
    "    # Save the Excel file\n",
    "    workbook.save(output_file)\n",
    "    print(f\"Excel file saved to {output_file}\")\n",
    "\n",
    "# Specify the root directory containing folders and the output file name\n",
    "root_directory = \"Desktop/root\"  # Replace with your folder path\n",
    "output_excel_file = \"output_companies.xlsx\"\n",
    "\n",
    "# Process the folders and create the Excel file\n",
    "process_folders_to_excel(root_directory, output_excel_file)\n"
   ]
  },
  {
   "cell_type": "code",
   "execution_count": null,
   "id": "9983003e-6443-421e-a589-e7599d17453b",
   "metadata": {},
   "outputs": [],
   "source": []
  }
 ],
 "metadata": {
  "kernelspec": {
   "display_name": "Python 3 (ipykernel)",
   "language": "python",
   "name": "python3"
  },
  "language_info": {
   "codemirror_mode": {
    "name": "ipython",
    "version": 3
   },
   "file_extension": ".py",
   "mimetype": "text/x-python",
   "name": "python",
   "nbconvert_exporter": "python",
   "pygments_lexer": "ipython3",
   "version": "3.11.7"
  }
 },
 "nbformat": 4,
 "nbformat_minor": 5
}
